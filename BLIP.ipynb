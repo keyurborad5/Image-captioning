{
 "cells": [
  {
   "cell_type": "markdown",
   "id": "00790c6c",
   "metadata": {},
   "source": [
    "## Image Captioning using BLIP"
   ]
  },
  {
   "cell_type": "markdown",
   "id": "2c1a6f0f",
   "metadata": {},
   "source": [
    "-BLIP uses a Vision Transformer (ViT) to process the image.\n",
    "\n",
    "-It uses a Text Transformer to generate text.\n",
    "\n",
    "-In conditional mode, the text encoder injects context into the decoder so the generated caption aligns with the prompt.\n",
    "\n",
    "-In unconditional mode, the decoder starts from scratch (like free captioning)."
   ]
  },
  {
   "cell_type": "code",
   "execution_count": null,
   "id": "cdc6cd21",
   "metadata": {},
   "outputs": [
    {
     "name": "stdout",
     "output_type": "stream",
     "text": [
      "a photography of a woman and her dog on the beach\n",
      "a woman sitting on the beach with her dog\n"
     ]
    }
   ],
   "source": [
    "'''\n",
    "BLIP Captioning example as it is from Hugging Face\n",
    "https://huggingface.co/Salesforce/blip-image-captioning-base\n",
    "'''\n",
    "\n",
    "import requests\n",
    "from PIL import Image\n",
    "from transformers import BlipProcessor, BlipForConditionalGeneration\n",
    "\n",
    "processor = BlipProcessor.from_pretrained(\"Salesforce/blip-image-captioning-base\")\n",
    "model = BlipForConditionalGeneration.from_pretrained(\"Salesforce/blip-image-captioning-base\").to(\"cuda\")\n",
    "\n",
    "img_url = 'https://storage.googleapis.com/sfr-vision-language-research/BLIP/demo.jpg' \n",
    "raw_image = Image.open(requests.get(img_url, stream=True).raw).convert('RGB')\n",
    "\n",
    "# conditional image captioning\n",
    "text = \"a photography of\"\n",
    "inputs = processor(raw_image, text, return_tensors=\"pt\").to(\"cuda\")\n",
    "\n",
    "out = model.generate(**inputs)\n",
    "print(processor.decode(out[0], skip_special_tokens=True))\n",
    "# >>> a photography of a woman and her dog\n",
    "\n",
    "# unconditional image captioning\n",
    "inputs = processor(raw_image, return_tensors=\"pt\").to(\"cuda\")\n",
    "\n",
    "out = model.generate(**inputs)\n",
    "print(processor.decode(out[0], skip_special_tokens=True))\n",
    "# >>> a woman sitting on the beach with her dog\n"
   ]
  },
  {
   "cell_type": "code",
   "execution_count": null,
   "id": "00769caf",
   "metadata": {},
   "outputs": [
    {
     "data": {
      "text/plain": [
       "[]"
      ]
     },
     "execution_count": 3,
     "metadata": {},
     "output_type": "execute_result"
    }
   ],
   "source": [
    "'''\n",
    "Saving the pretrained weights of the preprocessor so that I donont need to download every time\n",
    "'''\n",
    "processor = BlipProcessor.from_pretrained(\"Salesforce/blip-image-captioning-base\")\n",
    "processor.save_pretrained(\"./SavedModels/BLIP\")"
   ]
  },
  {
   "cell_type": "code",
   "execution_count": null,
   "id": "ee3683fa",
   "metadata": {},
   "outputs": [],
   "source": [
    "'''\n",
    "Saving the pretrained weights of the IImage Captioning model so that I donont need to download every time\n",
    "\n",
    "'''\n",
    "model = BlipForConditionalGeneration.from_pretrained(\"Salesforce/blip-image-captioning-base\")\n",
    "model.save_pretrained(\"./SavedModels/BLIP/CondiGen\")"
   ]
  },
  {
   "cell_type": "code",
   "execution_count": 10,
   "id": "1cbacae2",
   "metadata": {},
   "outputs": [
    {
     "name": "stdout",
     "output_type": "stream",
     "text": [
      "Processing 20240622_164021.jpg...\n",
      "a good captioning picture of a man and a woman\n",
      "Processing dennis.jpg...\n",
      "a good captioning view of the beach and the fog\n",
      "Processing keyur_borad.jpg...\n",
      "a good captioning photo of a man ' s face\n",
      "Processing mine.jpg...\n",
      "a good captioning picture of a man standing on a bridge\n",
      "Processing my_graduation.jpg...\n",
      "a good captioning man in a graduation gown\n",
      "Processing risha.jpg...\n",
      "a good captioning man\n"
     ]
    }
   ],
   "source": [
    "import requests\n",
    "from PIL import Image\n",
    "from transformers import BlipProcessor, BlipForConditionalGeneration\n",
    "\n",
    "processor=BlipProcessor.from_pretrained(\"./SavedModels/BLIP\") # Loading the preprocessor\n",
    "model=BlipForConditionalGeneration.from_pretrained(\"./SavedModels/BLIP/CondiGen\").to(\"cuda\") # Loading the model\n",
    "raw_image = Image.open(r\"./InputImages/mine.jpg\") # Loading the Image from the folder\n",
    "\n",
    "import os\n",
    "from os import listdir\n",
    "\n",
    "folder_dir= \"./InputImages/\" # Directory of the folder containing images\n",
    "\n",
    "with open('image_captioned.txt', 'w') as wf:\n",
    "    for image in listdir(folder_dir):\n",
    "        if image.endswith(\".jpg\") or image.endswith(\".png\"): # Checking for image files\n",
    "            raw_image = Image.open(os.path.join(folder_dir, image)).convert('RGB') # Opening the image\n",
    "            print(f\"Processing {image}...\") # Printing the name of the image being processed\n",
    "\n",
    "            # For Conditional Image captioning\n",
    "            text =\"a good captioning\"\n",
    "\n",
    "\n",
    "            inputs = processor(raw_image,text, return_tensors=\"pt\").to(\"cuda\") # Processing the inputs\n",
    "            out = model.generate(**inputs) # Generating the output\n",
    "            print(processor.decode(out[0], skip_special_tokens=True)) # Decoding and printing the output\n",
    "            wf.write(f\"{image}: {processor.decode(out[0], skip_special_tokens=True)}\\n\")\n"
   ]
  },
  {
   "cell_type": "code",
   "execution_count": 21,
   "id": "69917b2c",
   "metadata": {},
   "outputs": [],
   "source": [
    "import os"
   ]
  },
  {
   "cell_type": "code",
   "execution_count": null,
   "id": "61c3fb75",
   "metadata": {},
   "outputs": [],
   "source": []
  },
  {
   "cell_type": "code",
   "execution_count": null,
   "id": "e56cf532",
   "metadata": {},
   "outputs": [],
   "source": []
  }
 ],
 "metadata": {
  "kernelspec": {
   "display_name": "image_cap",
   "language": "python",
   "name": "python3"
  },
  "language_info": {
   "codemirror_mode": {
    "name": "ipython",
    "version": 3
   },
   "file_extension": ".py",
   "mimetype": "text/x-python",
   "name": "python",
   "nbconvert_exporter": "python",
   "pygments_lexer": "ipython3",
   "version": "3.11.9"
  }
 },
 "nbformat": 4,
 "nbformat_minor": 5
}
